{
  "nbformat": 4,
  "nbformat_minor": 0,
  "metadata": {
    "colab": {
      "name": "week9_IP",
      "provenance": [],
      "collapsed_sections": [],
      "toc_visible": true,
      "include_colab_link": true
    },
    "kernelspec": {
      "name": "python3",
      "display_name": "Python 3"
    }
  },
  "cells": [
    {
      "cell_type": "markdown",
      "metadata": {
        "id": "view-in-github",
        "colab_type": "text"
      },
      "source": [
        "<a href=\"https://colab.research.google.com/github/dkchebet7/Classification/blob/master/week9_IP.ipynb\" target=\"_parent\"><img src=\"https://colab.research.google.com/assets/colab-badge.svg\" alt=\"Open In Colab\"/></a>"
      ]
    },
    {
      "cell_type": "markdown",
      "metadata": {
        "id": "7CkE9K_B_2E5",
        "colab_type": "text"
      },
      "source": [
        "# PART A"
      ]
    },
    {
      "cell_type": "markdown",
      "metadata": {
        "id": "qVNjF3bW6m20",
        "colab_type": "text"
      },
      "source": [
        "#Objectives:\n",
        "\n",
        "\n",
        "*   To determine whether or not one is going to die in the titanic given various conditions/variables\n",
        "\n",
        "\n"
      ]
    },
    {
      "cell_type": "markdown",
      "metadata": {
        "id": "2iAiAQBi6sUZ",
        "colab_type": "text"
      },
      "source": [
        "# Metrics of success:\n",
        "         *   Record the various accuracy levels under various k sizes \n",
        "         *   Achieve an accaeptable accuracy of say above 90%\n",
        "         \n",
        "\n"
      ]
    },
    {
      "cell_type": "markdown",
      "metadata": {
        "id": "eslfuwxT62wK",
        "colab_type": "text"
      },
      "source": [
        "# Experimental Designs:\n",
        "\n",
        "1.   Clean Data\n",
        "\n",
        "2.   Exploratory Data Analysis\n",
        "        *   Hypothesis testing in ctegorical data\n",
        "        \n",
        "3.  Analysis:\n",
        "      *   Use KNN Classifier\n",
        "      *   Determine accuracy of the classifier\n",
        "\n"
      ]
    },
    {
      "cell_type": "code",
      "metadata": {
        "id": "WVZ039UkDgFq",
        "colab_type": "code",
        "colab": {}
      },
      "source": [
        "## Importing necessary libraries \n",
        "\n",
        "import pandas as pd\n",
        "import numpy as np\n",
        "import warnings\n",
        "warnings.filterwarnings('ignore')"
      ],
      "execution_count": 0,
      "outputs": []
    },
    {
      "cell_type": "code",
      "metadata": {
        "id": "7RrSODnKECbU",
        "colab_type": "code",
        "outputId": "084f19d2-abcb-4db2-e709-2f34bf6ffb21",
        "colab": {
          "base_uri": "https://localhost:8080/",
          "height": 191
        }
      },
      "source": [
        "## Loading the Titanic dataset\n",
        "\n",
        "titanic = pd.read_csv('/content/train.csv')\n",
        "\n",
        "## Reading the data\n",
        "titanic.head()"
      ],
      "execution_count": 17,
      "outputs": [
        {
          "output_type": "execute_result",
          "data": {
            "text/html": [
              "<div>\n",
              "<style scoped>\n",
              "    .dataframe tbody tr th:only-of-type {\n",
              "        vertical-align: middle;\n",
              "    }\n",
              "\n",
              "    .dataframe tbody tr th {\n",
              "        vertical-align: top;\n",
              "    }\n",
              "\n",
              "    .dataframe thead th {\n",
              "        text-align: right;\n",
              "    }\n",
              "</style>\n",
              "<table border=\"1\" class=\"dataframe\">\n",
              "  <thead>\n",
              "    <tr style=\"text-align: right;\">\n",
              "      <th></th>\n",
              "      <th>PassengerId</th>\n",
              "      <th>Survived</th>\n",
              "      <th>Pclass</th>\n",
              "      <th>Name</th>\n",
              "      <th>Sex</th>\n",
              "      <th>Age</th>\n",
              "      <th>SibSp</th>\n",
              "      <th>Parch</th>\n",
              "      <th>Ticket</th>\n",
              "      <th>Fare</th>\n",
              "      <th>Cabin</th>\n",
              "      <th>Embarked</th>\n",
              "    </tr>\n",
              "  </thead>\n",
              "  <tbody>\n",
              "    <tr>\n",
              "      <th>0</th>\n",
              "      <td>1</td>\n",
              "      <td>0</td>\n",
              "      <td>3</td>\n",
              "      <td>Braund, Mr. Owen Harris</td>\n",
              "      <td>male</td>\n",
              "      <td>22.0</td>\n",
              "      <td>1</td>\n",
              "      <td>0</td>\n",
              "      <td>A/5 21171</td>\n",
              "      <td>7.2500</td>\n",
              "      <td>NaN</td>\n",
              "      <td>S</td>\n",
              "    </tr>\n",
              "    <tr>\n",
              "      <th>1</th>\n",
              "      <td>2</td>\n",
              "      <td>1</td>\n",
              "      <td>1</td>\n",
              "      <td>Cumings, Mrs. John Bradley (Florence Briggs Th...</td>\n",
              "      <td>female</td>\n",
              "      <td>38.0</td>\n",
              "      <td>1</td>\n",
              "      <td>0</td>\n",
              "      <td>PC 17599</td>\n",
              "      <td>71.2833</td>\n",
              "      <td>C85</td>\n",
              "      <td>C</td>\n",
              "    </tr>\n",
              "    <tr>\n",
              "      <th>2</th>\n",
              "      <td>3</td>\n",
              "      <td>1</td>\n",
              "      <td>3</td>\n",
              "      <td>Heikkinen, Miss. Laina</td>\n",
              "      <td>female</td>\n",
              "      <td>26.0</td>\n",
              "      <td>0</td>\n",
              "      <td>0</td>\n",
              "      <td>STON/O2. 3101282</td>\n",
              "      <td>7.9250</td>\n",
              "      <td>NaN</td>\n",
              "      <td>S</td>\n",
              "    </tr>\n",
              "    <tr>\n",
              "      <th>3</th>\n",
              "      <td>4</td>\n",
              "      <td>1</td>\n",
              "      <td>1</td>\n",
              "      <td>Futrelle, Mrs. Jacques Heath (Lily May Peel)</td>\n",
              "      <td>female</td>\n",
              "      <td>35.0</td>\n",
              "      <td>1</td>\n",
              "      <td>0</td>\n",
              "      <td>113803</td>\n",
              "      <td>53.1000</td>\n",
              "      <td>C123</td>\n",
              "      <td>S</td>\n",
              "    </tr>\n",
              "    <tr>\n",
              "      <th>4</th>\n",
              "      <td>5</td>\n",
              "      <td>0</td>\n",
              "      <td>3</td>\n",
              "      <td>Allen, Mr. William Henry</td>\n",
              "      <td>male</td>\n",
              "      <td>35.0</td>\n",
              "      <td>0</td>\n",
              "      <td>0</td>\n",
              "      <td>373450</td>\n",
              "      <td>8.0500</td>\n",
              "      <td>NaN</td>\n",
              "      <td>S</td>\n",
              "    </tr>\n",
              "  </tbody>\n",
              "</table>\n",
              "</div>"
            ],
            "text/plain": [
              "   PassengerId  Survived  Pclass  ...     Fare Cabin  Embarked\n",
              "0            1         0       3  ...   7.2500   NaN         S\n",
              "1            2         1       1  ...  71.2833   C85         C\n",
              "2            3         1       3  ...   7.9250   NaN         S\n",
              "3            4         1       1  ...  53.1000  C123         S\n",
              "4            5         0       3  ...   8.0500   NaN         S\n",
              "\n",
              "[5 rows x 12 columns]"
            ]
          },
          "metadata": {
            "tags": []
          },
          "execution_count": 17
        }
      ]
    },
    {
      "cell_type": "markdown",
      "metadata": {
        "id": "l0c97TBeFAmi",
        "colab_type": "text"
      },
      "source": [
        "## Data Cleaning"
      ]
    },
    {
      "cell_type": "code",
      "metadata": {
        "id": "EIP0MTuNEf43",
        "colab_type": "code",
        "outputId": "bdbed5fd-2f01-40c2-c950-e5cddfcc5a25",
        "colab": {
          "base_uri": "https://localhost:8080/",
          "height": 521
        }
      },
      "source": [
        "## Checking the data size,null values and the datatypes\n",
        "\n",
        "print(titanic.shape)\n",
        "print('\\n')\n",
        "print(titanic.isnull().sum())\n",
        "print('\\n')\n",
        "print(titanic.dtypes)"
      ],
      "execution_count": 0,
      "outputs": [
        {
          "output_type": "stream",
          "text": [
            "(891, 12)\n",
            "\n",
            "\n",
            "PassengerId      0\n",
            "Survived         0\n",
            "Pclass           0\n",
            "Name             0\n",
            "Sex              0\n",
            "Age            177\n",
            "SibSp            0\n",
            "Parch            0\n",
            "Ticket           0\n",
            "Fare             0\n",
            "Cabin          687\n",
            "Embarked         2\n",
            "dtype: int64\n",
            "\n",
            "\n",
            "PassengerId      int64\n",
            "Survived         int64\n",
            "Pclass           int64\n",
            "Name            object\n",
            "Sex             object\n",
            "Age            float64\n",
            "SibSp            int64\n",
            "Parch            int64\n",
            "Ticket          object\n",
            "Fare           float64\n",
            "Cabin           object\n",
            "Embarked        object\n",
            "dtype: object\n"
          ],
          "name": "stdout"
        }
      ]
    },
    {
      "cell_type": "markdown",
      "metadata": {
        "id": "JdVXrpvQFyGH",
        "colab_type": "text"
      },
      "source": [
        "Titanic data has 891 rows and 12 columns.\n",
        "\n",
        "It also has 177 missing values in the aga column, 687 missing in the Cabin column and 2 in the embarked column.\n",
        "\n",
        "There are various datatypes in the entire dataset ranging from integers,object and float as shown above."
      ]
    },
    {
      "cell_type": "markdown",
      "metadata": {
        "id": "r3XKQIGTL9ci",
        "colab_type": "text"
      },
      "source": [
        "#### New columns"
      ]
    },
    {
      "cell_type": "code",
      "metadata": {
        "id": "mATBY9IzK1xn",
        "colab_type": "code",
        "outputId": "9fdeef52-2c32-4d50-dcee-a1b4f5c48130",
        "colab": {
          "base_uri": "https://localhost:8080/",
          "height": 66
        }
      },
      "source": [
        "## Creating new family_size column\n",
        "\n",
        "titanic['Family_Size']=titanic['SibSp']+titanic['Parch']\n",
        "titanic.columns"
      ],
      "execution_count": 18,
      "outputs": [
        {
          "output_type": "execute_result",
          "data": {
            "text/plain": [
              "Index(['PassengerId', 'Survived', 'Pclass', 'Name', 'Sex', 'Age', 'SibSp',\n",
              "       'Parch', 'Ticket', 'Fare', 'Cabin', 'Embarked', 'Family_Size'],\n",
              "      dtype='object')"
            ]
          },
          "metadata": {
            "tags": []
          },
          "execution_count": 18
        }
      ]
    },
    {
      "cell_type": "markdown",
      "metadata": {
        "id": "YTIa0h5yK5Oz",
        "colab_type": "text"
      },
      "source": [
        "A new column of family size(The sum of the number of siblings and the number od parents in the cabin) has been added to the dataframe. This is so as to get the total number of family members each victim has and to do away with confusing columns of(siblings and parents)"
      ]
    },
    {
      "cell_type": "code",
      "metadata": {
        "id": "Ns6HSW3SLgEQ",
        "colab_type": "code",
        "outputId": "7cd9d578-45c2-42d0-a3db-618f9eb14e20",
        "colab": {
          "base_uri": "https://localhost:8080/",
          "height": 131
        }
      },
      "source": [
        "titanic['Fare_Per_Person']=titanic['Fare']/(titanic['Family_Size']+1)\n",
        "print(titanic.columns)\n",
        "print('\\n')\n",
        "print(titanic.Fare_Per_Person.nunique())"
      ],
      "execution_count": 20,
      "outputs": [
        {
          "output_type": "stream",
          "text": [
            "Index(['PassengerId', 'Survived', 'Pclass', 'Name', 'Sex', 'Age', 'SibSp',\n",
            "       'Parch', 'Ticket', 'Fare', 'Cabin', 'Embarked', 'Family_Size',\n",
            "       'Fare_Per_Person'],\n",
            "      dtype='object')\n",
            "\n",
            "\n",
            "289\n"
          ],
          "name": "stdout"
        }
      ]
    },
    {
      "cell_type": "markdown",
      "metadata": {
        "id": "77DUiv-RMGO8",
        "colab_type": "text"
      },
      "source": [
        "A new column of fare has been created.This column gives the total amount spent on individual person in the ship.\n",
        "\n",
        "The total number of unique values in this new dataset id 289."
      ]
    },
    {
      "cell_type": "markdown",
      "metadata": {
        "id": "-CX74Iz8N90W",
        "colab_type": "text"
      },
      "source": [
        "#### Dropping unecessary columns"
      ]
    },
    {
      "cell_type": "code",
      "metadata": {
        "id": "Thy8h6okNUS1",
        "colab_type": "code",
        "outputId": "70d1f451-5a59-46e2-e15d-3a225e5c386b",
        "colab": {
          "base_uri": "https://localhost:8080/",
          "height": 191
        }
      },
      "source": [
        "## Dropping unecessary columns\n",
        "\n",
        "titanic = titanic.drop(['PassengerId','Name','Ticket','Fare','Cabin'], axis = 1)\n",
        "\n",
        "## Viewing the remaining dataset\n",
        "titanic.head()"
      ],
      "execution_count": 21,
      "outputs": [
        {
          "output_type": "execute_result",
          "data": {
            "text/html": [
              "<div>\n",
              "<style scoped>\n",
              "    .dataframe tbody tr th:only-of-type {\n",
              "        vertical-align: middle;\n",
              "    }\n",
              "\n",
              "    .dataframe tbody tr th {\n",
              "        vertical-align: top;\n",
              "    }\n",
              "\n",
              "    .dataframe thead th {\n",
              "        text-align: right;\n",
              "    }\n",
              "</style>\n",
              "<table border=\"1\" class=\"dataframe\">\n",
              "  <thead>\n",
              "    <tr style=\"text-align: right;\">\n",
              "      <th></th>\n",
              "      <th>Survived</th>\n",
              "      <th>Pclass</th>\n",
              "      <th>Sex</th>\n",
              "      <th>Age</th>\n",
              "      <th>SibSp</th>\n",
              "      <th>Parch</th>\n",
              "      <th>Embarked</th>\n",
              "      <th>Family_Size</th>\n",
              "      <th>Fare_Per_Person</th>\n",
              "    </tr>\n",
              "  </thead>\n",
              "  <tbody>\n",
              "    <tr>\n",
              "      <th>0</th>\n",
              "      <td>0</td>\n",
              "      <td>3</td>\n",
              "      <td>male</td>\n",
              "      <td>22.0</td>\n",
              "      <td>1</td>\n",
              "      <td>0</td>\n",
              "      <td>S</td>\n",
              "      <td>1</td>\n",
              "      <td>3.62500</td>\n",
              "    </tr>\n",
              "    <tr>\n",
              "      <th>1</th>\n",
              "      <td>1</td>\n",
              "      <td>1</td>\n",
              "      <td>female</td>\n",
              "      <td>38.0</td>\n",
              "      <td>1</td>\n",
              "      <td>0</td>\n",
              "      <td>C</td>\n",
              "      <td>1</td>\n",
              "      <td>35.64165</td>\n",
              "    </tr>\n",
              "    <tr>\n",
              "      <th>2</th>\n",
              "      <td>1</td>\n",
              "      <td>3</td>\n",
              "      <td>female</td>\n",
              "      <td>26.0</td>\n",
              "      <td>0</td>\n",
              "      <td>0</td>\n",
              "      <td>S</td>\n",
              "      <td>0</td>\n",
              "      <td>7.92500</td>\n",
              "    </tr>\n",
              "    <tr>\n",
              "      <th>3</th>\n",
              "      <td>1</td>\n",
              "      <td>1</td>\n",
              "      <td>female</td>\n",
              "      <td>35.0</td>\n",
              "      <td>1</td>\n",
              "      <td>0</td>\n",
              "      <td>S</td>\n",
              "      <td>1</td>\n",
              "      <td>26.55000</td>\n",
              "    </tr>\n",
              "    <tr>\n",
              "      <th>4</th>\n",
              "      <td>0</td>\n",
              "      <td>3</td>\n",
              "      <td>male</td>\n",
              "      <td>35.0</td>\n",
              "      <td>0</td>\n",
              "      <td>0</td>\n",
              "      <td>S</td>\n",
              "      <td>0</td>\n",
              "      <td>8.05000</td>\n",
              "    </tr>\n",
              "  </tbody>\n",
              "</table>\n",
              "</div>"
            ],
            "text/plain": [
              "   Survived  Pclass     Sex   Age  ...  Parch  Embarked Family_Size  Fare_Per_Person\n",
              "0         0       3    male  22.0  ...      0         S           1          3.62500\n",
              "1         1       1  female  38.0  ...      0         C           1         35.64165\n",
              "2         1       3  female  26.0  ...      0         S           0          7.92500\n",
              "3         1       1  female  35.0  ...      0         S           1         26.55000\n",
              "4         0       3    male  35.0  ...      0         S           0          8.05000\n",
              "\n",
              "[5 rows x 9 columns]"
            ]
          },
          "metadata": {
            "tags": []
          },
          "execution_count": 21
        }
      ]
    },
    {
      "cell_type": "markdown",
      "metadata": {
        "id": "MAGgUc30OqvS",
        "colab_type": "text"
      },
      "source": [
        "After a visual analysis of the dataset and the replacemnt of some of tne columns (passengerId, name, fare, cabin)can be dropped/removed fom the analysis as they are not useful."
      ]
    },
    {
      "cell_type": "markdown",
      "metadata": {
        "id": "iCi-tPMWHjbj",
        "colab_type": "text"
      },
      "source": [
        "#### Null values"
      ]
    },
    {
      "cell_type": "code",
      "metadata": {
        "id": "qlg6PwvKQaPj",
        "colab_type": "code",
        "outputId": "361c24a3-0b63-47ce-fec0-e783c9ddbea7",
        "colab": {
          "base_uri": "https://localhost:8080/",
          "height": 187
        }
      },
      "source": [
        "## Recahecking for null values\n",
        "\n",
        "print(titanic.isnull().sum())\n"
      ],
      "execution_count": 0,
      "outputs": [
        {
          "output_type": "stream",
          "text": [
            "Survived             0\n",
            "Pclass               0\n",
            "Sex                  0\n",
            "Age                177\n",
            "SibSp                0\n",
            "Parch                0\n",
            "Embarked             2\n",
            "Family_Size          0\n",
            "Fare_Per_Person      0\n",
            "dtype: int64\n"
          ],
          "name": "stdout"
        }
      ]
    },
    {
      "cell_type": "markdown",
      "metadata": {
        "id": "_vpUqX4ESzA0",
        "colab_type": "text"
      },
      "source": [
        "There are 177 null values in the Age column and 2 in the Embarked column"
      ]
    },
    {
      "cell_type": "code",
      "metadata": {
        "id": "gHGkmYMNSwav",
        "colab_type": "code",
        "colab": {}
      },
      "source": [
        "# ###\n",
        "# cols = ['Age','Embarked']\n",
        "\n",
        "# for i in cols:\n",
        "#   if titanic[i] == "
      ],
      "execution_count": 0,
      "outputs": []
    },
    {
      "cell_type": "code",
      "metadata": {
        "id": "jvwqHKsXHdLF",
        "colab_type": "code",
        "colab": {}
      },
      "source": [
        "## fill all null values in the age column with the mean of the group\n",
        "\n",
        "titanic['Age']= titanic['Age'].fillna(titanic['Age'].mode()[0])\n",
        "\n",
        "titanic['Embarked'] = titanic['Embarked'].fillna(titanic['Embarked'].mode()[0],axis = 0)"
      ],
      "execution_count": 0,
      "outputs": []
    },
    {
      "cell_type": "markdown",
      "metadata": {
        "id": "hREr2_eDVe-K",
        "colab_type": "text"
      },
      "source": [
        "The above codes hepls us fill the missing values in age and emarked with the mode of each group ."
      ]
    },
    {
      "cell_type": "code",
      "metadata": {
        "id": "8m6ZIwQBIZai",
        "colab_type": "code",
        "outputId": "5b8ab565-16ae-4ad6-9f61-3baa9ccd47fc",
        "colab": {
          "base_uri": "https://localhost:8080/",
          "height": 180
        }
      },
      "source": [
        "## Checking for null values in the data\n",
        "\n",
        "titanic.isnull().sum()"
      ],
      "execution_count": 0,
      "outputs": [
        {
          "output_type": "execute_result",
          "data": {
            "text/plain": [
              "Survived           0\n",
              "Pclass             0\n",
              "Sex                0\n",
              "Age                0\n",
              "SibSp              0\n",
              "Parch              0\n",
              "Embarked           0\n",
              "Family_Size        0\n",
              "Fare_Per_Person    0\n",
              "dtype: int64"
            ]
          },
          "metadata": {
            "tags": []
          },
          "execution_count": 8
        }
      ]
    },
    {
      "cell_type": "markdown",
      "metadata": {
        "id": "m5NS4N4TVWk9",
        "colab_type": "text"
      },
      "source": [
        "This shows there are no missing/null values in the dataset."
      ]
    },
    {
      "cell_type": "markdown",
      "metadata": {
        "id": "6cq9dXzYVxDM",
        "colab_type": "text"
      },
      "source": [
        "## Exploratory Data Analysis"
      ]
    },
    {
      "cell_type": "code",
      "metadata": {
        "id": "bNopv1dwVVKU",
        "colab_type": "code",
        "outputId": "05f65e10-80b2-47b4-f922-e226c3cc71a7",
        "colab": {
          "base_uri": "https://localhost:8080/",
          "height": 204
        }
      },
      "source": [
        "## Creating a copy to work with\n",
        "## Viewing the data\n",
        "\n",
        "titanic2 = titanic.copy()\n",
        "titanic2.head()"
      ],
      "execution_count": 0,
      "outputs": [
        {
          "output_type": "execute_result",
          "data": {
            "text/html": [
              "<div>\n",
              "<style scoped>\n",
              "    .dataframe tbody tr th:only-of-type {\n",
              "        vertical-align: middle;\n",
              "    }\n",
              "\n",
              "    .dataframe tbody tr th {\n",
              "        vertical-align: top;\n",
              "    }\n",
              "\n",
              "    .dataframe thead th {\n",
              "        text-align: right;\n",
              "    }\n",
              "</style>\n",
              "<table border=\"1\" class=\"dataframe\">\n",
              "  <thead>\n",
              "    <tr style=\"text-align: right;\">\n",
              "      <th></th>\n",
              "      <th>Survived</th>\n",
              "      <th>Pclass</th>\n",
              "      <th>Sex</th>\n",
              "      <th>Age</th>\n",
              "      <th>SibSp</th>\n",
              "      <th>Parch</th>\n",
              "      <th>Embarked</th>\n",
              "      <th>Family_Size</th>\n",
              "      <th>Fare_Per_Person</th>\n",
              "    </tr>\n",
              "  </thead>\n",
              "  <tbody>\n",
              "    <tr>\n",
              "      <th>0</th>\n",
              "      <td>0</td>\n",
              "      <td>3</td>\n",
              "      <td>male</td>\n",
              "      <td>22.0</td>\n",
              "      <td>1</td>\n",
              "      <td>0</td>\n",
              "      <td>S</td>\n",
              "      <td>1</td>\n",
              "      <td>3.62500</td>\n",
              "    </tr>\n",
              "    <tr>\n",
              "      <th>1</th>\n",
              "      <td>1</td>\n",
              "      <td>1</td>\n",
              "      <td>female</td>\n",
              "      <td>38.0</td>\n",
              "      <td>1</td>\n",
              "      <td>0</td>\n",
              "      <td>C</td>\n",
              "      <td>1</td>\n",
              "      <td>35.64165</td>\n",
              "    </tr>\n",
              "    <tr>\n",
              "      <th>2</th>\n",
              "      <td>1</td>\n",
              "      <td>3</td>\n",
              "      <td>female</td>\n",
              "      <td>26.0</td>\n",
              "      <td>0</td>\n",
              "      <td>0</td>\n",
              "      <td>S</td>\n",
              "      <td>0</td>\n",
              "      <td>7.92500</td>\n",
              "    </tr>\n",
              "    <tr>\n",
              "      <th>3</th>\n",
              "      <td>1</td>\n",
              "      <td>1</td>\n",
              "      <td>female</td>\n",
              "      <td>35.0</td>\n",
              "      <td>1</td>\n",
              "      <td>0</td>\n",
              "      <td>S</td>\n",
              "      <td>1</td>\n",
              "      <td>26.55000</td>\n",
              "    </tr>\n",
              "    <tr>\n",
              "      <th>4</th>\n",
              "      <td>0</td>\n",
              "      <td>3</td>\n",
              "      <td>male</td>\n",
              "      <td>35.0</td>\n",
              "      <td>0</td>\n",
              "      <td>0</td>\n",
              "      <td>S</td>\n",
              "      <td>0</td>\n",
              "      <td>8.05000</td>\n",
              "    </tr>\n",
              "  </tbody>\n",
              "</table>\n",
              "</div>"
            ],
            "text/plain": [
              "   Survived  Pclass     Sex   Age  ...  Parch  Embarked Family_Size  Fare_Per_Person\n",
              "0         0       3    male  22.0  ...      0         S           1          3.62500\n",
              "1         1       1  female  38.0  ...      0         C           1         35.64165\n",
              "2         1       3  female  26.0  ...      0         S           0          7.92500\n",
              "3         1       1  female  35.0  ...      0         S           1         26.55000\n",
              "4         0       3    male  35.0  ...      0         S           0          8.05000\n",
              "\n",
              "[5 rows x 9 columns]"
            ]
          },
          "metadata": {
            "tags": []
          },
          "execution_count": 73
        }
      ]
    },
    {
      "cell_type": "code",
      "metadata": {
        "id": "RsijbHSRO6JP",
        "colab_type": "code",
        "outputId": "03ff1c8e-c0a8-4ccc-e589-27f7d7996780",
        "colab": {
          "base_uri": "https://localhost:8080/",
          "height": 142
        }
      },
      "source": [
        "## checking relationship between survived,sex and embarked\n",
        "\n",
        "\n",
        "from scipy import stats\n",
        "\n",
        "gender =  pd.crosstab(titanic2['Sex'], titanic2['Survived'])\n",
        "gender"
      ],
      "execution_count": 0,
      "outputs": [
        {
          "output_type": "execute_result",
          "data": {
            "text/html": [
              "<div>\n",
              "<style scoped>\n",
              "    .dataframe tbody tr th:only-of-type {\n",
              "        vertical-align: middle;\n",
              "    }\n",
              "\n",
              "    .dataframe tbody tr th {\n",
              "        vertical-align: top;\n",
              "    }\n",
              "\n",
              "    .dataframe thead th {\n",
              "        text-align: right;\n",
              "    }\n",
              "</style>\n",
              "<table border=\"1\" class=\"dataframe\">\n",
              "  <thead>\n",
              "    <tr style=\"text-align: right;\">\n",
              "      <th>Survived</th>\n",
              "      <th>0</th>\n",
              "      <th>1</th>\n",
              "    </tr>\n",
              "    <tr>\n",
              "      <th>Sex</th>\n",
              "      <th></th>\n",
              "      <th></th>\n",
              "    </tr>\n",
              "  </thead>\n",
              "  <tbody>\n",
              "    <tr>\n",
              "      <th>female</th>\n",
              "      <td>81</td>\n",
              "      <td>233</td>\n",
              "    </tr>\n",
              "    <tr>\n",
              "      <th>male</th>\n",
              "      <td>468</td>\n",
              "      <td>109</td>\n",
              "    </tr>\n",
              "  </tbody>\n",
              "</table>\n",
              "</div>"
            ],
            "text/plain": [
              "Survived    0    1\n",
              "Sex               \n",
              "female     81  233\n",
              "male      468  109"
            ]
          },
          "metadata": {
            "tags": []
          },
          "execution_count": 74
        }
      ]
    },
    {
      "cell_type": "code",
      "metadata": {
        "id": "bGDDVhRDPQXZ",
        "colab_type": "code",
        "outputId": "d33298cc-a0e2-46d9-d303-d400a839f51d",
        "colab": {
          "base_uri": "https://localhost:8080/",
          "height": 337
        }
      },
      "source": [
        "## Plotting the gender cross table\n",
        "gender.plot(kind = 'bar', title = 'Male vs female survival')"
      ],
      "execution_count": 0,
      "outputs": [
        {
          "output_type": "execute_result",
          "data": {
            "text/plain": [
              "<matplotlib.axes._subplots.AxesSubplot at 0x7f3213031cf8>"
            ]
          },
          "metadata": {
            "tags": []
          },
          "execution_count": 75
        },
        {
          "output_type": "display_data",
          "data": {
            "image/png": "[encoded data removed]",
            "text/plain": [
              "<Figure size 432x288 with 1 Axes>"
            ]
          },
          "metadata": {
            "tags": []
          }
        }
      ]
    },
    {
      "cell_type": "markdown",
      "metadata": {
        "id": "smGWYNERYd3P",
        "colab_type": "text"
      },
      "source": [
        "  From the croostable resulrs, more male survived compared to female.\n",
        "  This should help us try and figure out why more female lost their lives"
      ]
    },
    {
      "cell_type": "code",
      "metadata": {
        "id": "6ZYGIX6NPCPM",
        "colab_type": "code",
        "outputId": "2d833850-5d09-4baf-9f54-f045bd974106",
        "colab": {
          "base_uri": "https://localhost:8080/",
          "height": 173
        }
      },
      "source": [
        "\n",
        "embarked = pd.crosstab(titanic2['Embarked'],titanic2['Survived'])\n",
        "embarked"
      ],
      "execution_count": 0,
      "outputs": [
        {
          "output_type": "execute_result",
          "data": {
            "text/html": [
              "<div>\n",
              "<style scoped>\n",
              "    .dataframe tbody tr th:only-of-type {\n",
              "        vertical-align: middle;\n",
              "    }\n",
              "\n",
              "    .dataframe tbody tr th {\n",
              "        vertical-align: top;\n",
              "    }\n",
              "\n",
              "    .dataframe thead th {\n",
              "        text-align: right;\n",
              "    }\n",
              "</style>\n",
              "<table border=\"1\" class=\"dataframe\">\n",
              "  <thead>\n",
              "    <tr style=\"text-align: right;\">\n",
              "      <th>Survived</th>\n",
              "      <th>0</th>\n",
              "      <th>1</th>\n",
              "    </tr>\n",
              "    <tr>\n",
              "      <th>Embarked</th>\n",
              "      <th></th>\n",
              "      <th></th>\n",
              "    </tr>\n",
              "  </thead>\n",
              "  <tbody>\n",
              "    <tr>\n",
              "      <th>C</th>\n",
              "      <td>75</td>\n",
              "      <td>93</td>\n",
              "    </tr>\n",
              "    <tr>\n",
              "      <th>Q</th>\n",
              "      <td>47</td>\n",
              "      <td>30</td>\n",
              "    </tr>\n",
              "    <tr>\n",
              "      <th>S</th>\n",
              "      <td>427</td>\n",
              "      <td>219</td>\n",
              "    </tr>\n",
              "  </tbody>\n",
              "</table>\n",
              "</div>"
            ],
            "text/plain": [
              "Survived    0    1\n",
              "Embarked          \n",
              "C          75   93\n",
              "Q          47   30\n",
              "S         427  219"
            ]
          },
          "metadata": {
            "tags": []
          },
          "execution_count": 76
        }
      ]
    },
    {
      "cell_type": "code",
      "metadata": {
        "id": "LSxi6F44VONG",
        "colab_type": "code",
        "outputId": "2077b648-d4e5-47de-ebc0-32746f101682",
        "colab": {
          "base_uri": "https://localhost:8080/",
          "height": 310
        }
      },
      "source": [
        "## Plotting embarked crosstable\n",
        "embarked.plot(kind = 'bar', title = 'plot of embarked against survival')"
      ],
      "execution_count": 0,
      "outputs": [
        {
          "output_type": "execute_result",
          "data": {
            "text/plain": [
              "<matplotlib.axes._subplots.AxesSubplot at 0x7f3213011a90>"
            ]
          },
          "metadata": {
            "tags": []
          },
          "execution_count": 77
        },
        {
          "output_type": "display_data",
          "data": {
            "image/png": "[encoded data removed]",
            "text/plain": [
              "<Figure size 432x288 with 1 Axes>"
            ]
          },
          "metadata": {
            "tags": []
          }
        }
      ]
    },
    {
      "cell_type": "markdown",
      "metadata": {
        "id": "boLJAFeiZB-1",
        "colab_type": "text"
      },
      "source": [
        "From the embarked crosstable,people that embarked from 'S' both died and  survived. This can tell us that the region of embarking doe nor really matter when it comes to survival"
      ]
    },
    {
      "cell_type": "markdown",
      "metadata": {
        "id": "y2i-rpn7bWRw",
        "colab_type": "text"
      },
      "source": [
        "##### Chi_square test\n",
        "\n",
        "*  H0: There is no relationship between Gender and Survival\n",
        "*  H1: There is a relationship between Gender and Survival\n"
      ]
    },
    {
      "cell_type": "code",
      "metadata": {
        "id": "sQKq4I5ZZh53",
        "colab_type": "code",
        "outputId": "d6bdaf40-dc97-4a25-88ea-54227548b076",
        "colab": {
          "base_uri": "https://localhost:8080/",
          "height": 102
        }
      },
      "source": [
        "stats.chi2_contingency(gender)"
      ],
      "execution_count": 0,
      "outputs": [
        {
          "output_type": "execute_result",
          "data": {
            "text/plain": [
              "(260.71702016732104,\n",
              " 1.1973570627755645e-58,\n",
              " 1,\n",
              " array([[193.47474747, 120.52525253],\n",
              "        [355.52525253, 221.47474747]]))"
            ]
          },
          "metadata": {
            "tags": []
          },
          "execution_count": 78
        }
      ]
    },
    {
      "cell_type": "markdown",
      "metadata": {
        "id": "qaxmb6yPa7al",
        "colab_type": "text"
      },
      "source": [
        "The first value (260.717) is the Chi-square value, followed by the p-value (1.197), then comes the degrees of freedom (1), and lastly it outputs the expected frequencies as an array. \n",
        "We can reject the null hypothesis as the p-value is less than 0.05. and say that there is a relationship between gender and survival"
      ]
    },
    {
      "cell_type": "markdown",
      "metadata": {
        "id": "gPM5BmNkcSJi",
        "colab_type": "text"
      },
      "source": [
        "Chi_square on embarked"
      ]
    },
    {
      "cell_type": "markdown",
      "metadata": {
        "id": "H1GQ-RdfcPxA",
        "colab_type": "text"
      },
      "source": [
        "*  H0: There is no relationship between region Embarked and Survival\n",
        "*  H1: There is a relationship between region Embarked and Survival\n"
      ]
    },
    {
      "cell_type": "code",
      "metadata": {
        "id": "u1V3e7_kcbae",
        "colab_type": "code",
        "outputId": "73186e50-3937-4165-9531-33ea16f9d0a0",
        "colab": {
          "base_uri": "https://localhost:8080/",
          "height": 119
        }
      },
      "source": [
        "stats.chi2_contingency(embarked)"
      ],
      "execution_count": 0,
      "outputs": [
        {
          "output_type": "execute_result",
          "data": {
            "text/plain": [
              "(25.964452881874784,\n",
              " 2.3008626481449577e-06,\n",
              " 2,\n",
              " array([[103.51515152,  64.48484848],\n",
              "        [ 47.44444444,  29.55555556],\n",
              "        [398.04040404, 247.95959596]]))"
            ]
          },
          "metadata": {
            "tags": []
          },
          "execution_count": 79
        }
      ]
    },
    {
      "cell_type": "markdown",
      "metadata": {
        "id": "ja5WvqTicx0o",
        "colab_type": "text"
      },
      "source": [
        "chi_square value = 25.964452881874784\n",
        "p_value = 2.3008626481449577e-06\n",
        "d.o.f = 2\n",
        "\n",
        "We can reject the null hypothesis as the p-value is less than 0.05. and say that there is a relationship between embarked and survival"
      ]
    },
    {
      "cell_type": "markdown",
      "metadata": {
        "id": "5No6jtx1O6xK",
        "colab_type": "text"
      },
      "source": [
        "## Analysis"
      ]
    },
    {
      "cell_type": "markdown",
      "metadata": {
        "id": "0cWFZIXkUoJX",
        "colab_type": "text"
      },
      "source": [
        "## K Nearest Neighbor"
      ]
    },
    {
      "cell_type": "code",
      "metadata": {
        "id": "K5JNX2r3UzGa",
        "colab_type": "code",
        "colab": {}
      },
      "source": [
        "## Impoting necesssary libraries\n",
        "\n",
        "from sklearn.model_selection import train_test_split\n",
        "from sklearn.neighbors import KNeighborsClassifier\n",
        "from sklearn.metrics import f1_score, accuracy_score\n",
        "from sklearn.preprocessing import StandardScaler, LabelEncoder, MinMaxScaler\n"
      ],
      "execution_count": 0,
      "outputs": []
    },
    {
      "cell_type": "code",
      "metadata": {
        "id": "h_iZIIsJPC5C",
        "colab_type": "code",
        "outputId": "7476756e-0e3b-45e9-de76-216ab3d51f55",
        "colab": {
          "base_uri": "https://localhost:8080/",
          "height": 204
        }
      },
      "source": [
        "## Recalling the data\n",
        "titanic.head()"
      ],
      "execution_count": 0,
      "outputs": [
        {
          "output_type": "execute_result",
          "data": {
            "text/html": [
              "<div>\n",
              "<style scoped>\n",
              "    .dataframe tbody tr th:only-of-type {\n",
              "        vertical-align: middle;\n",
              "    }\n",
              "\n",
              "    .dataframe tbody tr th {\n",
              "        vertical-align: top;\n",
              "    }\n",
              "\n",
              "    .dataframe thead th {\n",
              "        text-align: right;\n",
              "    }\n",
              "</style>\n",
              "<table border=\"1\" class=\"dataframe\">\n",
              "  <thead>\n",
              "    <tr style=\"text-align: right;\">\n",
              "      <th></th>\n",
              "      <th>Survived</th>\n",
              "      <th>Pclass</th>\n",
              "      <th>Sex</th>\n",
              "      <th>Age</th>\n",
              "      <th>SibSp</th>\n",
              "      <th>Parch</th>\n",
              "      <th>Embarked</th>\n",
              "      <th>Family_Size</th>\n",
              "      <th>Fare_Per_Person</th>\n",
              "    </tr>\n",
              "  </thead>\n",
              "  <tbody>\n",
              "    <tr>\n",
              "      <th>0</th>\n",
              "      <td>0</td>\n",
              "      <td>3</td>\n",
              "      <td>male</td>\n",
              "      <td>22.0</td>\n",
              "      <td>1</td>\n",
              "      <td>0</td>\n",
              "      <td>S</td>\n",
              "      <td>1</td>\n",
              "      <td>3.62500</td>\n",
              "    </tr>\n",
              "    <tr>\n",
              "      <th>1</th>\n",
              "      <td>1</td>\n",
              "      <td>1</td>\n",
              "      <td>female</td>\n",
              "      <td>38.0</td>\n",
              "      <td>1</td>\n",
              "      <td>0</td>\n",
              "      <td>C</td>\n",
              "      <td>1</td>\n",
              "      <td>35.64165</td>\n",
              "    </tr>\n",
              "    <tr>\n",
              "      <th>2</th>\n",
              "      <td>1</td>\n",
              "      <td>3</td>\n",
              "      <td>female</td>\n",
              "      <td>26.0</td>\n",
              "      <td>0</td>\n",
              "      <td>0</td>\n",
              "      <td>S</td>\n",
              "      <td>0</td>\n",
              "      <td>7.92500</td>\n",
              "    </tr>\n",
              "    <tr>\n",
              "      <th>3</th>\n",
              "      <td>1</td>\n",
              "      <td>1</td>\n",
              "      <td>female</td>\n",
              "      <td>35.0</td>\n",
              "      <td>1</td>\n",
              "      <td>0</td>\n",
              "      <td>S</td>\n",
              "      <td>1</td>\n",
              "      <td>26.55000</td>\n",
              "    </tr>\n",
              "    <tr>\n",
              "      <th>4</th>\n",
              "      <td>0</td>\n",
              "      <td>3</td>\n",
              "      <td>male</td>\n",
              "      <td>35.0</td>\n",
              "      <td>0</td>\n",
              "      <td>0</td>\n",
              "      <td>S</td>\n",
              "      <td>0</td>\n",
              "      <td>8.05000</td>\n",
              "    </tr>\n",
              "  </tbody>\n",
              "</table>\n",
              "</div>"
            ],
            "text/plain": [
              "   Survived  Pclass     Sex   Age  ...  Parch  Embarked Family_Size  Fare_Per_Person\n",
              "0         0       3    male  22.0  ...      0         S           1          3.62500\n",
              "1         1       1  female  38.0  ...      0         C           1         35.64165\n",
              "2         1       3  female  26.0  ...      0         S           0          7.92500\n",
              "3         1       1  female  35.0  ...      0         S           1         26.55000\n",
              "4         0       3    male  35.0  ...      0         S           0          8.05000\n",
              "\n",
              "[5 rows x 9 columns]"
            ]
          },
          "metadata": {
            "tags": []
          },
          "execution_count": 13
        }
      ]
    },
    {
      "cell_type": "code",
      "metadata": {
        "id": "Y29umaS_Qv-6",
        "colab_type": "code",
        "colab": {}
      },
      "source": [
        "## Groping data into X(independent variables) and y(dependent variable)\n",
        "X =pd.DataFrame(titanic.drop(['Survived'],axis = 1))\n",
        "y = titanic['Survived']"
      ],
      "execution_count": 0,
      "outputs": []
    },
    {
      "cell_type": "markdown",
      "metadata": {
        "id": "m0QBcX2kUJ6d",
        "colab_type": "text"
      },
      "source": [
        "The dataset has been grouped into x and y variables.Where X has all the other variables but 'survived' column and y only has the y column"
      ]
    },
    {
      "cell_type": "code",
      "metadata": {
        "id": "WGI49RI2XASN",
        "colab_type": "code",
        "outputId": "f8dd88a4-ed48-43ff-feff-d8c086c167a4",
        "colab": {
          "base_uri": "https://localhost:8080/",
          "height": 51
        }
      },
      "source": [
        "## Checking the unique values in  Sex and Embarkes column\n",
        "print(titanic.Sex.unique())\n",
        "print(titanic.Embarked.unique())"
      ],
      "execution_count": 0,
      "outputs": [
        {
          "output_type": "stream",
          "text": [
            "['male' 'female']\n",
            "['S' 'C' 'Q']\n"
          ],
          "name": "stdout"
        }
      ]
    },
    {
      "cell_type": "markdown",
      "metadata": {
        "id": "rqNgQd-p5W7s",
        "colab_type": "text"
      },
      "source": [
        "sex column has binary features(male or female) whereas embarked dataset has 3 features(s,q abd c)"
      ]
    },
    {
      "cell_type": "code",
      "metadata": {
        "id": "4OgPIsAiR2Hv",
        "colab_type": "code",
        "outputId": "6a297bfa-8a0d-4d67-f9c6-e35518eca0f8",
        "colab": {
          "base_uri": "https://localhost:8080/",
          "height": 147
        }
      },
      "source": [
        "## Label Encoding\n",
        "X = pd.get_dummies(X)\n",
        "\n",
        "print(X.head())"
      ],
      "execution_count": 25,
      "outputs": [
        {
          "output_type": "stream",
          "text": [
            "   Pclass   Age  SibSp  Parch  ...  Sex_male  Embarked_C  Embarked_Q  Embarked_S\n",
            "0       3  22.0      1      0  ...         1           0           0           1\n",
            "1       1  38.0      1      0  ...         0           1           0           0\n",
            "2       3  26.0      0      0  ...         0           0           0           1\n",
            "3       1  35.0      1      0  ...         0           0           0           1\n",
            "4       3  35.0      0      0  ...         1           0           0           1\n",
            "\n",
            "[5 rows x 11 columns]\n"
          ],
          "name": "stdout"
        }
      ]
    },
    {
      "cell_type": "markdown",
      "metadata": {
        "id": "xN11Kg19Y4bN",
        "colab_type": "text"
      },
      "source": [
        "All the X values have been changed to numerical"
      ]
    },
    {
      "cell_type": "code",
      "metadata": {
        "id": "6G2M5Bn-YqCm",
        "colab_type": "code",
        "outputId": "daf4e853-0f70-4646-a950-9648f6a36e6d",
        "colab": {
          "base_uri": "https://localhost:8080/",
          "height": 297
        }
      },
      "source": [
        "## Applying KNN\n",
        "\n",
        "accuracy = []\n",
        "score = []\n",
        "for i in range(1,9):\n",
        "  ## Split data into train and test sets\n",
        "  X_train,X_test,y_train,y_test = train_test_split(X,y,test_size = 0.2, random_state = 10)\n",
        "  \n",
        "  ## Standardise data\n",
        "  Scale = MinMaxScaler()\n",
        "  X_train = Scale.fit_transform(X_train)\n",
        "  X_test = Scale.transform(X_test)\n",
        "  \n",
        "  ## Applying KNN\n",
        "  k = KNeighborsClassifier(i)\n",
        "  k.fit(X_train,y_train)\n",
        "  \n",
        "  ##Predicting the X_test data\n",
        "  y_pred = k.predict(X_test)\n",
        "  \n",
        "  ## Testing the accuracy of our predictions\n",
        "  acc = accuracy_score(y_test,y_pred)\n",
        "  f = f1_score(y_test,y_pred)\n",
        "  \n",
        "  accuracy.append(acc)\n",
        "  score.append(f)\n",
        "  \n",
        "## Creating a dataframe of the accuracy score at different levels  \n",
        "prediction = pd.DataFrame({'accuracy': accuracy, 'f1_score': score},index = range(1,9))\n",
        "prediction"
      ],
      "execution_count": 0,
      "outputs": [
        {
          "output_type": "execute_result",
          "data": {
            "text/html": [
              "<div>\n",
              "<style scoped>\n",
              "    .dataframe tbody tr th:only-of-type {\n",
              "        vertical-align: middle;\n",
              "    }\n",
              "\n",
              "    .dataframe tbody tr th {\n",
              "        vertical-align: top;\n",
              "    }\n",
              "\n",
              "    .dataframe thead th {\n",
              "        text-align: right;\n",
              "    }\n",
              "</style>\n",
              "<table border=\"1\" class=\"dataframe\">\n",
              "  <thead>\n",
              "    <tr style=\"text-align: right;\">\n",
              "      <th></th>\n",
              "      <th>accuracy</th>\n",
              "      <th>f1_score</th>\n",
              "    </tr>\n",
              "  </thead>\n",
              "  <tbody>\n",
              "    <tr>\n",
              "      <th>1</th>\n",
              "      <td>0.748603</td>\n",
              "      <td>0.651163</td>\n",
              "    </tr>\n",
              "    <tr>\n",
              "      <th>2</th>\n",
              "      <td>0.798883</td>\n",
              "      <td>0.666667</td>\n",
              "    </tr>\n",
              "    <tr>\n",
              "      <th>3</th>\n",
              "      <td>0.815642</td>\n",
              "      <td>0.722689</td>\n",
              "    </tr>\n",
              "    <tr>\n",
              "      <th>4</th>\n",
              "      <td>0.832402</td>\n",
              "      <td>0.732143</td>\n",
              "    </tr>\n",
              "    <tr>\n",
              "      <th>5</th>\n",
              "      <td>0.810056</td>\n",
              "      <td>0.711864</td>\n",
              "    </tr>\n",
              "    <tr>\n",
              "      <th>6</th>\n",
              "      <td>0.843575</td>\n",
              "      <td>0.745455</td>\n",
              "    </tr>\n",
              "    <tr>\n",
              "      <th>7</th>\n",
              "      <td>0.832402</td>\n",
              "      <td>0.736842</td>\n",
              "    </tr>\n",
              "    <tr>\n",
              "      <th>8</th>\n",
              "      <td>0.826816</td>\n",
              "      <td>0.725664</td>\n",
              "    </tr>\n",
              "  </tbody>\n",
              "</table>\n",
              "</div>"
            ],
            "text/plain": [
              "   accuracy  f1_score\n",
              "1  0.748603  0.651163\n",
              "2  0.798883  0.666667\n",
              "3  0.815642  0.722689\n",
              "4  0.832402  0.732143\n",
              "5  0.810056  0.711864\n",
              "6  0.843575  0.745455\n",
              "7  0.832402  0.736842\n",
              "8  0.826816  0.725664"
            ]
          },
          "metadata": {
            "tags": []
          },
          "execution_count": 84
        }
      ]
    },
    {
      "cell_type": "markdown",
      "metadata": {
        "id": "O0p-TpZj5sQo",
        "colab_type": "text"
      },
      "source": [
        "This is the results of accuracy level in several k sizes.The highest accuracy is when k is 6 with an accuracy of 84%"
      ]
    },
    {
      "cell_type": "code",
      "metadata": {
        "id": "2YY50oHPdjPZ",
        "colab_type": "code",
        "outputId": "215166ac-92e2-445e-d22c-5b554693fe69",
        "colab": {
          "base_uri": "https://localhost:8080/",
          "height": 295
        }
      },
      "source": [
        "## Plotting the predictions\n",
        "prediction.plot(kind = 'bar', title = 'Plot of Accuracy score vs fi_score')\n",
        "#prediction.plot.title('Accuracy vs f1_score Graph')"
      ],
      "execution_count": 0,
      "outputs": [
        {
          "output_type": "execute_result",
          "data": {
            "text/plain": [
              "<matplotlib.axes._subplots.AxesSubplot at 0x7f32160bcef0>"
            ]
          },
          "metadata": {
            "tags": []
          },
          "execution_count": 18
        },
        {
          "output_type": "display_data",
          "data": {
            "image/png": "[encoded data removed]",
            "text/plain": [
              "<Figure size 432x288 with 1 Axes>"
            ]
          },
          "metadata": {
            "tags": []
          }
        }
      ]
    },
    {
      "cell_type": "code",
      "metadata": {
        "id": "W40S27yQ__Kq",
        "colab_type": "code",
        "outputId": "b7f009c0-2c81-4182-b567-a14d3c9b8f0c",
        "colab": {
          "base_uri": "https://localhost:8080/",
          "height": 51
        }
      },
      "source": [
        "##Confusion matrix\n",
        "from sklearn.metrics import confusion_matrix\n",
        "print(confusion_matrix(y_test,y_pred))"
      ],
      "execution_count": 0,
      "outputs": [
        {
          "output_type": "stream",
          "text": [
            "[[107  10]\n",
            " [ 21  41]]\n"
          ],
          "name": "stdout"
        }
      ]
    },
    {
      "cell_type": "markdown",
      "metadata": {
        "id": "dyvIdDSfdi_U",
        "colab_type": "text"
      },
      "source": [
        "The matrix above details that out of 117 that survived, 107 were correctly predicted and 10 falsely predicted to be dead.\n",
        "And out of 62 that died 41 were accurately predicted and 21 falsely identifiedto be dead"
      ]
    },
    {
      "cell_type": "markdown",
      "metadata": {
        "id": "RwY57E6PFf7o",
        "colab_type": "text"
      },
      "source": [
        "## Grouping test and train into a 70:30 split"
      ]
    },
    {
      "cell_type": "code",
      "metadata": {
        "id": "CvbYzXDdFPcg",
        "colab_type": "code",
        "colab": {
          "base_uri": "https://localhost:8080/",
          "height": 277
        },
        "outputId": "ddcf75e9-c25e-44ad-dc73-1142be853fb1"
      },
      "source": [
        "## Applying KNN\n",
        "\n",
        "accuracy = []\n",
        "score = []\n",
        "for i in range(1,9):\n",
        "  ## Split data into train and test sets\n",
        "  X_train,X_test,y_train,y_test = train_test_split(X,y,test_size = 0.3, random_state = 10)\n",
        "  \n",
        "  ## Standardise data\n",
        "  Scale = MinMaxScaler()\n",
        "  X_train = Scale.fit_transform(X_train)\n",
        "  X_test = Scale.transform(X_test)\n",
        "  \n",
        "  ## Applying KNN\n",
        "  k = KNeighborsClassifier(i)\n",
        "  k.fit(X_train,y_train)\n",
        "  \n",
        "  ##Predicting the X_test data\n",
        "  y_pred = k.predict(X_test)\n",
        "  \n",
        "  ## Testing the accuracy of our predictions\n",
        "  acc = accuracy_score(y_test,y_pred)\n",
        "  f = f1_score(y_test,y_pred)\n",
        "  \n",
        "  accuracy.append(acc)\n",
        "  score.append(f)\n",
        "  \n",
        "## Creating a dataframe of the accuracy score at different levels  \n",
        "prediction = pd.DataFrame({'accuracy': accuracy, 'f1_score': score},index = range(1,9))\n",
        "prediction"
      ],
      "execution_count": 26,
      "outputs": [
        {
          "output_type": "execute_result",
          "data": {
            "text/html": [
              "<div>\n",
              "<style scoped>\n",
              "    .dataframe tbody tr th:only-of-type {\n",
              "        vertical-align: middle;\n",
              "    }\n",
              "\n",
              "    .dataframe tbody tr th {\n",
              "        vertical-align: top;\n",
              "    }\n",
              "\n",
              "    .dataframe thead th {\n",
              "        text-align: right;\n",
              "    }\n",
              "</style>\n",
              "<table border=\"1\" class=\"dataframe\">\n",
              "  <thead>\n",
              "    <tr style=\"text-align: right;\">\n",
              "      <th></th>\n",
              "      <th>accuracy</th>\n",
              "      <th>f1_score</th>\n",
              "    </tr>\n",
              "  </thead>\n",
              "  <tbody>\n",
              "    <tr>\n",
              "      <th>1</th>\n",
              "      <td>0.738806</td>\n",
              "      <td>0.650000</td>\n",
              "    </tr>\n",
              "    <tr>\n",
              "      <th>2</th>\n",
              "      <td>0.809701</td>\n",
              "      <td>0.679245</td>\n",
              "    </tr>\n",
              "    <tr>\n",
              "      <th>3</th>\n",
              "      <td>0.791045</td>\n",
              "      <td>0.695652</td>\n",
              "    </tr>\n",
              "    <tr>\n",
              "      <th>4</th>\n",
              "      <td>0.832090</td>\n",
              "      <td>0.730539</td>\n",
              "    </tr>\n",
              "    <tr>\n",
              "      <th>5</th>\n",
              "      <td>0.813433</td>\n",
              "      <td>0.715909</td>\n",
              "    </tr>\n",
              "    <tr>\n",
              "      <th>6</th>\n",
              "      <td>0.824627</td>\n",
              "      <td>0.728324</td>\n",
              "    </tr>\n",
              "    <tr>\n",
              "      <th>7</th>\n",
              "      <td>0.820896</td>\n",
              "      <td>0.727273</td>\n",
              "    </tr>\n",
              "    <tr>\n",
              "      <th>8</th>\n",
              "      <td>0.809701</td>\n",
              "      <td>0.701754</td>\n",
              "    </tr>\n",
              "  </tbody>\n",
              "</table>\n",
              "</div>"
            ],
            "text/plain": [
              "   accuracy  f1_score\n",
              "1  0.738806  0.650000\n",
              "2  0.809701  0.679245\n",
              "3  0.791045  0.695652\n",
              "4  0.832090  0.730539\n",
              "5  0.813433  0.715909\n",
              "6  0.824627  0.728324\n",
              "7  0.820896  0.727273\n",
              "8  0.809701  0.701754"
            ]
          },
          "metadata": {
            "tags": []
          },
          "execution_count": 26
        }
      ]
    },
    {
      "cell_type": "markdown",
      "metadata": {
        "id": "vIGw8HZgG524",
        "colab_type": "text"
      },
      "source": [
        "This is the results of accuracy level in several k sizes.The highest accuracy is when k is 4 with(83%)"
      ]
    },
    {
      "cell_type": "code",
      "metadata": {
        "id": "-E13b8y-GkQW",
        "colab_type": "code",
        "colab": {
          "base_uri": "https://localhost:8080/",
          "height": 293
        },
        "outputId": "f1d053e2-679c-4fd9-c5da-347b83ea5ca2"
      },
      "source": [
        "## Plotting the predictions\n",
        "prediction.plot(kind = 'bar', title = 'Plot of Accuracy score vs fi_score')\n",
        "#prediction.plot.title('Accuracy vs f1_score Graph')"
      ],
      "execution_count": 27,
      "outputs": [
        {
          "output_type": "execute_result",
          "data": {
            "text/plain": [
              "<matplotlib.axes._subplots.AxesSubplot at 0x7ff61c8a6c18>"
            ]
          },
          "metadata": {
            "tags": []
          },
          "execution_count": 27
        },
        {
          "output_type": "display_data",
          "data": {
            "image/png": "[encoded data removed]",
            "text/plain": [
              "<Figure size 432x288 with 1 Axes>"
            ]
          },
          "metadata": {
            "tags": []
          }
        }
      ]
    },
    {
      "cell_type": "code",
      "metadata": {
        "id": "vz1_ChUFGq3j",
        "colab_type": "code",
        "colab": {
          "base_uri": "https://localhost:8080/",
          "height": 50
        },
        "outputId": "8f458aee-b3d4-4afc-8377-5f0577ad9d1d"
      },
      "source": [
        "##Confusion matrix\n",
        "from sklearn.metrics import confusion_matrix\n",
        "print(confusion_matrix(y_test,y_pred))"
      ],
      "execution_count": 28,
      "outputs": [
        {
          "output_type": "stream",
          "text": [
            "[[157  17]\n",
            " [ 34  60]]\n"
          ],
          "name": "stdout"
        }
      ]
    },
    {
      "cell_type": "markdown",
      "metadata": {
        "id": "zx2PshHlHM6B",
        "colab_type": "text"
      },
      "source": [
        "The matrix above details that out of 174 that survived, 157 were correctly predicted and 10 falsely predicted to be dead.\n",
        "And out of 62 that died 60 were accurately predicted and 34 falsely identifiedto be dead"
      ]
    },
    {
      "cell_type": "markdown",
      "metadata": {
        "id": "VI-ZvqJZgn5u",
        "colab_type": "text"
      },
      "source": [
        "## Grouping test and train into a 60:40 split"
      ]
    },
    {
      "cell_type": "code",
      "metadata": {
        "id": "1KUVoNjK8JGc",
        "colab_type": "code",
        "outputId": "14d06eb8-d681-4262-dcb4-b885764519b8",
        "colab": {
          "base_uri": "https://localhost:8080/",
          "height": 277
        }
      },
      "source": [
        "## Applying KNN\n",
        "\n",
        "accuracy = []\n",
        "score = []\n",
        "for i in range(1,9):\n",
        "  ## Split data into train and test sets\n",
        "  X_train,X_test,y_train,y_test = train_test_split(X,y,test_size = 0.4, random_state = 10)\n",
        "  \n",
        "  ## Standardise data\n",
        "  Scale = MinMaxScaler()\n",
        "  X_train = Scale.fit_transform(X_train)\n",
        "  X_test = Scale.transform(X_test)\n",
        "  \n",
        "  ## Applying KNN\n",
        "  k = KNeighborsClassifier(i)\n",
        "  k.fit(X_train,y_train)\n",
        "  \n",
        "  ##Predicting the X_test data\n",
        "  y_pred = k.predict(X_test)\n",
        "  \n",
        "  ## Testing the accuracy of our predictions\n",
        "  acc = accuracy_score(y_test,y_pred)\n",
        "  f = f1_score(y_test,y_pred)\n",
        "  \n",
        "  accuracy.append(acc)\n",
        "  score.append(f)\n",
        "  \n",
        "## Creating a dataframe of the accuracy score at different levels  \n",
        "prediction = pd.DataFrame({'accuracy': accuracy, 'f1_score': score},index = range(1,9))\n",
        "prediction"
      ],
      "execution_count": 0,
      "outputs": [
        {
          "output_type": "execute_result",
          "data": {
            "text/html": [
              "<div>\n",
              "<style scoped>\n",
              "    .dataframe tbody tr th:only-of-type {\n",
              "        vertical-align: middle;\n",
              "    }\n",
              "\n",
              "    .dataframe tbody tr th {\n",
              "        vertical-align: top;\n",
              "    }\n",
              "\n",
              "    .dataframe thead th {\n",
              "        text-align: right;\n",
              "    }\n",
              "</style>\n",
              "<table border=\"1\" class=\"dataframe\">\n",
              "  <thead>\n",
              "    <tr style=\"text-align: right;\">\n",
              "      <th></th>\n",
              "      <th>accuracy</th>\n",
              "      <th>f1_score</th>\n",
              "    </tr>\n",
              "  </thead>\n",
              "  <tbody>\n",
              "    <tr>\n",
              "      <th>1</th>\n",
              "      <td>0.742297</td>\n",
              "      <td>0.654135</td>\n",
              "    </tr>\n",
              "    <tr>\n",
              "      <th>2</th>\n",
              "      <td>0.798319</td>\n",
              "      <td>0.666667</td>\n",
              "    </tr>\n",
              "    <tr>\n",
              "      <th>3</th>\n",
              "      <td>0.778711</td>\n",
              "      <td>0.687747</td>\n",
              "    </tr>\n",
              "    <tr>\n",
              "      <th>4</th>\n",
              "      <td>0.798319</td>\n",
              "      <td>0.681416</td>\n",
              "    </tr>\n",
              "    <tr>\n",
              "      <th>5</th>\n",
              "      <td>0.784314</td>\n",
              "      <td>0.675105</td>\n",
              "    </tr>\n",
              "    <tr>\n",
              "      <th>6</th>\n",
              "      <td>0.795518</td>\n",
              "      <td>0.675556</td>\n",
              "    </tr>\n",
              "    <tr>\n",
              "      <th>7</th>\n",
              "      <td>0.778711</td>\n",
              "      <td>0.658009</td>\n",
              "    </tr>\n",
              "    <tr>\n",
              "      <th>8</th>\n",
              "      <td>0.784314</td>\n",
              "      <td>0.657778</td>\n",
              "    </tr>\n",
              "  </tbody>\n",
              "</table>\n",
              "</div>"
            ],
            "text/plain": [
              "   accuracy  f1_score\n",
              "1  0.742297  0.654135\n",
              "2  0.798319  0.666667\n",
              "3  0.778711  0.687747\n",
              "4  0.798319  0.681416\n",
              "5  0.784314  0.675105\n",
              "6  0.795518  0.675556\n",
              "7  0.778711  0.658009\n",
              "8  0.784314  0.657778"
            ]
          },
          "metadata": {
            "tags": []
          },
          "execution_count": 13
        }
      ]
    },
    {
      "cell_type": "markdown",
      "metadata": {
        "id": "5US_DRO8-Dkl",
        "colab_type": "text"
      },
      "source": [
        "This is the results of accuracy level in several k sizes.The highest accuracy is when k is 4 with an accuracy of 79%  "
      ]
    },
    {
      "cell_type": "code",
      "metadata": {
        "id": "wogC1nxX9M8C",
        "colab_type": "code",
        "outputId": "9853dc0a-aec3-4bd0-ea2d-d3f310c1627a",
        "colab": {
          "base_uri": "https://localhost:8080/",
          "height": 293
        }
      },
      "source": [
        "## Plotting the predictions\n",
        "prediction.plot(kind = 'bar', title = 'Plot of Accuracy score vs fi_score')\n",
        "#prediction.plot.title('Accuracy vs f1_score Graph')"
      ],
      "execution_count": 0,
      "outputs": [
        {
          "output_type": "execute_result",
          "data": {
            "text/plain": [
              "<matplotlib.axes._subplots.AxesSubplot at 0x7ff61f1df4a8>"
            ]
          },
          "metadata": {
            "tags": []
          },
          "execution_count": 14
        },
        {
          "output_type": "display_data",
          "data": {
            "image/png": "[encoded data removed]",
            "text/plain": [
              "<Figure size 432x288 with 1 Axes>"
            ]
          },
          "metadata": {
            "tags": []
          }
        }
      ]
    },
    {
      "cell_type": "code",
      "metadata": {
        "id": "mNGRFL0h9Sma",
        "colab_type": "code",
        "outputId": "82f16fd5-4d52-4485-9f06-659880e7bc44",
        "colab": {
          "base_uri": "https://localhost:8080/",
          "height": 50
        }
      },
      "source": [
        "##Confusion matrix\n",
        "from sklearn.metrics import confusion_matrix\n",
        "print(confusion_matrix(y_test,y_pred))"
      ],
      "execution_count": 0,
      "outputs": [
        {
          "output_type": "stream",
          "text": [
            "[[206  23]\n",
            " [ 54  74]]\n"
          ],
          "name": "stdout"
        }
      ]
    },
    {
      "cell_type": "markdown",
      "metadata": {
        "id": "Tcnz_dX-9iqb",
        "colab_type": "text"
      },
      "source": [
        "The matrix above details that out of229 that survived, 206 were correctly predicted and 23 falsely predicted to be dead.\n",
        "And out of 128 that died 74 were accurately predicted and 54 falsely identifiedto be dead"
      ]
    },
    {
      "cell_type": "markdown",
      "metadata": {
        "id": "TNGK9aJZehzK",
        "colab_type": "text"
      },
      "source": [
        "#### Conclusion\n",
        "\n",
        "*   The KNN Classifier has soo much room for improvement as it misclassified very mant people. \n",
        "\n",
        "*   Find an optimization technique of the KNN Model\n",
        "\n",
        "*   Use Logistic regression to get better results in terms of accuracy\n",
        "\n",
        "\n",
        "*   The 70:30 split gave more accuracy as compared to 60:40 split. However this difference is quite small and thus we can rule out overfitting and conclude that our model is quite ok but can be improved. \n",
        "\n",
        "\n",
        "*   Accuracy reduces as the test size is reduces as well(20% = 84% Accuracy, 30% = 83% Accuracy and 40% = 79% Accuracy) . This could tells us we need alot more training data to get the most real results overally.\n",
        "\n",
        "\n",
        "\n",
        "\n",
        "\n",
        "\n"
      ]
    },
    {
      "cell_type": "markdown",
      "metadata": {
        "id": "mWxI50jXiV9k",
        "colab_type": "text"
      },
      "source": [
        "# PART B"
      ]
    },
    {
      "cell_type": "markdown",
      "metadata": {
        "id": "ngSNMgaI-ugM",
        "colab_type": "text"
      },
      "source": [
        "#Objectives:\n",
        "\n",
        "\n",
        "*   To determine whether or not a message is spam or not \n",
        "\n"
      ]
    },
    {
      "cell_type": "markdown",
      "metadata": {
        "id": "P1wUB9xx-6V3",
        "colab_type": "text"
      },
      "source": [
        "# Metrics of success:\n",
        "         *   Record the various accuracy levels under various classifiers \n",
        "         *   Achieve an accaeptable accuracy of say above 90%\n",
        "         \n",
        "\n"
      ]
    },
    {
      "cell_type": "markdown",
      "metadata": {
        "id": "GeXPbSzh_FGZ",
        "colab_type": "text"
      },
      "source": [
        "# Experimental Designs:\n",
        "\n",
        "1.   Clean Data\n",
        "\n",
        "2.   Exploratory Data Analysis\n",
        "\n",
        "3.  Analysis:\n",
        "      *   Use Berneulli Classifier\n",
        "      *   Use Multinomial Classifier\n",
        "      *   Determine accuracy of the classifier\n",
        "\n"
      ]
    },
    {
      "cell_type": "code",
      "metadata": {
        "id": "XRlFyUvo2m-4",
        "colab_type": "code",
        "colab": {}
      },
      "source": [
        "## Importing Necesssary libraries\n",
        "from sklearn.model_selection import train_test_split\n",
        "from sklearn.naive_bayes import BernoulliNB,MultinomialNB\n",
        "from sklearn.preprocessing import StandardScaler, MinMaxScaler\n"
      ],
      "execution_count": 0,
      "outputs": []
    },
    {
      "cell_type": "code",
      "metadata": {
        "id": "LBY9uUwbipj9",
        "colab_type": "code",
        "outputId": "26fac3cd-ec88-47c7-c468-d16038763e09",
        "colab": {
          "base_uri": "https://localhost:8080/",
          "height": 224
        }
      },
      "source": [
        "## Loading the dataset\n",
        "\n",
        "#spam = pd.read_csv('/content/spam.csv',encoding= 'latin1')\n",
        "spam = pd.read_csv('/content/spambase_csv.csv')\n",
        "spam.head()"
      ],
      "execution_count": 0,
      "outputs": [
        {
          "output_type": "execute_result",
          "data": {
            "text/html": [
              "<div>\n",
              "<style scoped>\n",
              "    .dataframe tbody tr th:only-of-type {\n",
              "        vertical-align: middle;\n",
              "    }\n",
              "\n",
              "    .dataframe tbody tr th {\n",
              "        vertical-align: top;\n",
              "    }\n",
              "\n",
              "    .dataframe thead th {\n",
              "        text-align: right;\n",
              "    }\n",
              "</style>\n",
              "<table border=\"1\" class=\"dataframe\">\n",
              "  <thead>\n",
              "    <tr style=\"text-align: right;\">\n",
              "      <th></th>\n",
              "      <th>word_freq_make</th>\n",
              "      <th>word_freq_address</th>\n",
              "      <th>word_freq_all</th>\n",
              "      <th>word_freq_3d</th>\n",
              "      <th>word_freq_our</th>\n",
              "      <th>word_freq_over</th>\n",
              "      <th>word_freq_remove</th>\n",
              "      <th>word_freq_internet</th>\n",
              "      <th>word_freq_order</th>\n",
              "      <th>word_freq_mail</th>\n",
              "      <th>word_freq_receive</th>\n",
              "      <th>word_freq_will</th>\n",
              "      <th>word_freq_people</th>\n",
              "      <th>word_freq_report</th>\n",
              "      <th>word_freq_addresses</th>\n",
              "      <th>word_freq_free</th>\n",
              "      <th>word_freq_business</th>\n",
              "      <th>word_freq_email</th>\n",
              "      <th>word_freq_you</th>\n",
              "      <th>word_freq_credit</th>\n",
              "      <th>word_freq_your</th>\n",
              "      <th>word_freq_font</th>\n",
              "      <th>word_freq_000</th>\n",
              "      <th>word_freq_money</th>\n",
              "      <th>word_freq_hp</th>\n",
              "      <th>word_freq_hpl</th>\n",
              "      <th>word_freq_george</th>\n",
              "      <th>word_freq_650</th>\n",
              "      <th>word_freq_lab</th>\n",
              "      <th>word_freq_labs</th>\n",
              "      <th>word_freq_telnet</th>\n",
              "      <th>word_freq_857</th>\n",
              "      <th>word_freq_data</th>\n",
              "      <th>word_freq_415</th>\n",
              "      <th>word_freq_85</th>\n",
              "      <th>word_freq_technology</th>\n",
              "      <th>word_freq_1999</th>\n",
              "      <th>word_freq_parts</th>\n",
              "      <th>word_freq_pm</th>\n",
              "      <th>word_freq_direct</th>\n",
              "      <th>word_freq_cs</th>\n",
              "      <th>word_freq_meeting</th>\n",
              "      <th>word_freq_original</th>\n",
              "      <th>word_freq_project</th>\n",
              "      <th>word_freq_re</th>\n",
              "      <th>word_freq_edu</th>\n",
              "      <th>word_freq_table</th>\n",
              "      <th>word_freq_conference</th>\n",
              "      <th>char_freq_%3B</th>\n",
              "      <th>char_freq_%28</th>\n",
              "      <th>char_freq_%5B</th>\n",
              "      <th>char_freq_%21</th>\n",
              "      <th>char_freq_%24</th>\n",
              "      <th>char_freq_%23</th>\n",
              "      <th>capital_run_length_average</th>\n",
              "      <th>capital_run_length_longest</th>\n",
              "      <th>capital_run_length_total</th>\n",
              "      <th>class</th>\n",
              "    </tr>\n",
              "  </thead>\n",
              "  <tbody>\n",
              "    <tr>\n",
              "      <th>0</th>\n",
              "      <td>0.00</td>\n",
              "      <td>0.64</td>\n",
              "      <td>0.64</td>\n",
              "      <td>0.0</td>\n",
              "      <td>0.32</td>\n",
              "      <td>0.00</td>\n",
              "      <td>0.00</td>\n",
              "      <td>0.00</td>\n",
              "      <td>0.00</td>\n",
              "      <td>0.00</td>\n",
              "      <td>0.00</td>\n",
              "      <td>0.64</td>\n",
              "      <td>0.00</td>\n",
              "      <td>0.00</td>\n",
              "      <td>0.00</td>\n",
              "      <td>0.32</td>\n",
              "      <td>0.00</td>\n",
              "      <td>1.29</td>\n",
              "      <td>1.93</td>\n",
              "      <td>0.00</td>\n",
              "      <td>0.96</td>\n",
              "      <td>0.0</td>\n",
              "      <td>0.00</td>\n",
              "      <td>0.00</td>\n",
              "      <td>0.0</td>\n",
              "      <td>0.0</td>\n",
              "      <td>0.0</td>\n",
              "      <td>0.0</td>\n",
              "      <td>0.0</td>\n",
              "      <td>0.0</td>\n",
              "      <td>0.0</td>\n",
              "      <td>0.0</td>\n",
              "      <td>0.0</td>\n",
              "      <td>0.0</td>\n",
              "      <td>0.0</td>\n",
              "      <td>0.0</td>\n",
              "      <td>0.00</td>\n",
              "      <td>0.0</td>\n",
              "      <td>0.0</td>\n",
              "      <td>0.00</td>\n",
              "      <td>0.0</td>\n",
              "      <td>0.0</td>\n",
              "      <td>0.00</td>\n",
              "      <td>0.0</td>\n",
              "      <td>0.00</td>\n",
              "      <td>0.00</td>\n",
              "      <td>0.0</td>\n",
              "      <td>0.0</td>\n",
              "      <td>0.00</td>\n",
              "      <td>0.000</td>\n",
              "      <td>0.0</td>\n",
              "      <td>0.778</td>\n",
              "      <td>0.000</td>\n",
              "      <td>0.000</td>\n",
              "      <td>3.756</td>\n",
              "      <td>61</td>\n",
              "      <td>278</td>\n",
              "      <td>1</td>\n",
              "    </tr>\n",
              "    <tr>\n",
              "      <th>1</th>\n",
              "      <td>0.21</td>\n",
              "      <td>0.28</td>\n",
              "      <td>0.50</td>\n",
              "      <td>0.0</td>\n",
              "      <td>0.14</td>\n",
              "      <td>0.28</td>\n",
              "      <td>0.21</td>\n",
              "      <td>0.07</td>\n",
              "      <td>0.00</td>\n",
              "      <td>0.94</td>\n",
              "      <td>0.21</td>\n",
              "      <td>0.79</td>\n",
              "      <td>0.65</td>\n",
              "      <td>0.21</td>\n",
              "      <td>0.14</td>\n",
              "      <td>0.14</td>\n",
              "      <td>0.07</td>\n",
              "      <td>0.28</td>\n",
              "      <td>3.47</td>\n",
              "      <td>0.00</td>\n",
              "      <td>1.59</td>\n",
              "      <td>0.0</td>\n",
              "      <td>0.43</td>\n",
              "      <td>0.43</td>\n",
              "      <td>0.0</td>\n",
              "      <td>0.0</td>\n",
              "      <td>0.0</td>\n",
              "      <td>0.0</td>\n",
              "      <td>0.0</td>\n",
              "      <td>0.0</td>\n",
              "      <td>0.0</td>\n",
              "      <td>0.0</td>\n",
              "      <td>0.0</td>\n",
              "      <td>0.0</td>\n",
              "      <td>0.0</td>\n",
              "      <td>0.0</td>\n",
              "      <td>0.07</td>\n",
              "      <td>0.0</td>\n",
              "      <td>0.0</td>\n",
              "      <td>0.00</td>\n",
              "      <td>0.0</td>\n",
              "      <td>0.0</td>\n",
              "      <td>0.00</td>\n",
              "      <td>0.0</td>\n",
              "      <td>0.00</td>\n",
              "      <td>0.00</td>\n",
              "      <td>0.0</td>\n",
              "      <td>0.0</td>\n",
              "      <td>0.00</td>\n",
              "      <td>0.132</td>\n",
              "      <td>0.0</td>\n",
              "      <td>0.372</td>\n",
              "      <td>0.180</td>\n",
              "      <td>0.048</td>\n",
              "      <td>5.114</td>\n",
              "      <td>101</td>\n",
              "      <td>1028</td>\n",
              "      <td>1</td>\n",
              "    </tr>\n",
              "    <tr>\n",
              "      <th>2</th>\n",
              "      <td>0.06</td>\n",
              "      <td>0.00</td>\n",
              "      <td>0.71</td>\n",
              "      <td>0.0</td>\n",
              "      <td>1.23</td>\n",
              "      <td>0.19</td>\n",
              "      <td>0.19</td>\n",
              "      <td>0.12</td>\n",
              "      <td>0.64</td>\n",
              "      <td>0.25</td>\n",
              "      <td>0.38</td>\n",
              "      <td>0.45</td>\n",
              "      <td>0.12</td>\n",
              "      <td>0.00</td>\n",
              "      <td>1.75</td>\n",
              "      <td>0.06</td>\n",
              "      <td>0.06</td>\n",
              "      <td>1.03</td>\n",
              "      <td>1.36</td>\n",
              "      <td>0.32</td>\n",
              "      <td>0.51</td>\n",
              "      <td>0.0</td>\n",
              "      <td>1.16</td>\n",
              "      <td>0.06</td>\n",
              "      <td>0.0</td>\n",
              "      <td>0.0</td>\n",
              "      <td>0.0</td>\n",
              "      <td>0.0</td>\n",
              "      <td>0.0</td>\n",
              "      <td>0.0</td>\n",
              "      <td>0.0</td>\n",
              "      <td>0.0</td>\n",
              "      <td>0.0</td>\n",
              "      <td>0.0</td>\n",
              "      <td>0.0</td>\n",
              "      <td>0.0</td>\n",
              "      <td>0.00</td>\n",
              "      <td>0.0</td>\n",
              "      <td>0.0</td>\n",
              "      <td>0.06</td>\n",
              "      <td>0.0</td>\n",
              "      <td>0.0</td>\n",
              "      <td>0.12</td>\n",
              "      <td>0.0</td>\n",
              "      <td>0.06</td>\n",
              "      <td>0.06</td>\n",
              "      <td>0.0</td>\n",
              "      <td>0.0</td>\n",
              "      <td>0.01</td>\n",
              "      <td>0.143</td>\n",
              "      <td>0.0</td>\n",
              "      <td>0.276</td>\n",
              "      <td>0.184</td>\n",
              "      <td>0.010</td>\n",
              "      <td>9.821</td>\n",
              "      <td>485</td>\n",
              "      <td>2259</td>\n",
              "      <td>1</td>\n",
              "    </tr>\n",
              "    <tr>\n",
              "      <th>3</th>\n",
              "      <td>0.00</td>\n",
              "      <td>0.00</td>\n",
              "      <td>0.00</td>\n",
              "      <td>0.0</td>\n",
              "      <td>0.63</td>\n",
              "      <td>0.00</td>\n",
              "      <td>0.31</td>\n",
              "      <td>0.63</td>\n",
              "      <td>0.31</td>\n",
              "      <td>0.63</td>\n",
              "      <td>0.31</td>\n",
              "      <td>0.31</td>\n",
              "      <td>0.31</td>\n",
              "      <td>0.00</td>\n",
              "      <td>0.00</td>\n",
              "      <td>0.31</td>\n",
              "      <td>0.00</td>\n",
              "      <td>0.00</td>\n",
              "      <td>3.18</td>\n",
              "      <td>0.00</td>\n",
              "      <td>0.31</td>\n",
              "      <td>0.0</td>\n",
              "      <td>0.00</td>\n",
              "      <td>0.00</td>\n",
              "      <td>0.0</td>\n",
              "      <td>0.0</td>\n",
              "      <td>0.0</td>\n",
              "      <td>0.0</td>\n",
              "      <td>0.0</td>\n",
              "      <td>0.0</td>\n",
              "      <td>0.0</td>\n",
              "      <td>0.0</td>\n",
              "      <td>0.0</td>\n",
              "      <td>0.0</td>\n",
              "      <td>0.0</td>\n",
              "      <td>0.0</td>\n",
              "      <td>0.00</td>\n",
              "      <td>0.0</td>\n",
              "      <td>0.0</td>\n",
              "      <td>0.00</td>\n",
              "      <td>0.0</td>\n",
              "      <td>0.0</td>\n",
              "      <td>0.00</td>\n",
              "      <td>0.0</td>\n",
              "      <td>0.00</td>\n",
              "      <td>0.00</td>\n",
              "      <td>0.0</td>\n",
              "      <td>0.0</td>\n",
              "      <td>0.00</td>\n",
              "      <td>0.137</td>\n",
              "      <td>0.0</td>\n",
              "      <td>0.137</td>\n",
              "      <td>0.000</td>\n",
              "      <td>0.000</td>\n",
              "      <td>3.537</td>\n",
              "      <td>40</td>\n",
              "      <td>191</td>\n",
              "      <td>1</td>\n",
              "    </tr>\n",
              "    <tr>\n",
              "      <th>4</th>\n",
              "      <td>0.00</td>\n",
              "      <td>0.00</td>\n",
              "      <td>0.00</td>\n",
              "      <td>0.0</td>\n",
              "      <td>0.63</td>\n",
              "      <td>0.00</td>\n",
              "      <td>0.31</td>\n",
              "      <td>0.63</td>\n",
              "      <td>0.31</td>\n",
              "      <td>0.63</td>\n",
              "      <td>0.31</td>\n",
              "      <td>0.31</td>\n",
              "      <td>0.31</td>\n",
              "      <td>0.00</td>\n",
              "      <td>0.00</td>\n",
              "      <td>0.31</td>\n",
              "      <td>0.00</td>\n",
              "      <td>0.00</td>\n",
              "      <td>3.18</td>\n",
              "      <td>0.00</td>\n",
              "      <td>0.31</td>\n",
              "      <td>0.0</td>\n",
              "      <td>0.00</td>\n",
              "      <td>0.00</td>\n",
              "      <td>0.0</td>\n",
              "      <td>0.0</td>\n",
              "      <td>0.0</td>\n",
              "      <td>0.0</td>\n",
              "      <td>0.0</td>\n",
              "      <td>0.0</td>\n",
              "      <td>0.0</td>\n",
              "      <td>0.0</td>\n",
              "      <td>0.0</td>\n",
              "      <td>0.0</td>\n",
              "      <td>0.0</td>\n",
              "      <td>0.0</td>\n",
              "      <td>0.00</td>\n",
              "      <td>0.0</td>\n",
              "      <td>0.0</td>\n",
              "      <td>0.00</td>\n",
              "      <td>0.0</td>\n",
              "      <td>0.0</td>\n",
              "      <td>0.00</td>\n",
              "      <td>0.0</td>\n",
              "      <td>0.00</td>\n",
              "      <td>0.00</td>\n",
              "      <td>0.0</td>\n",
              "      <td>0.0</td>\n",
              "      <td>0.00</td>\n",
              "      <td>0.135</td>\n",
              "      <td>0.0</td>\n",
              "      <td>0.135</td>\n",
              "      <td>0.000</td>\n",
              "      <td>0.000</td>\n",
              "      <td>3.537</td>\n",
              "      <td>40</td>\n",
              "      <td>191</td>\n",
              "      <td>1</td>\n",
              "    </tr>\n",
              "  </tbody>\n",
              "</table>\n",
              "</div>"
            ],
            "text/plain": [
              "   word_freq_make  word_freq_address  ...  capital_run_length_total  class\n",
              "0            0.00               0.64  ...                       278      1\n",
              "1            0.21               0.28  ...                      1028      1\n",
              "2            0.06               0.00  ...                      2259      1\n",
              "3            0.00               0.00  ...                       191      1\n",
              "4            0.00               0.00  ...                       191      1\n",
              "\n",
              "[5 rows x 58 columns]"
            ]
          },
          "metadata": {
            "tags": []
          },
          "execution_count": 24
        }
      ]
    },
    {
      "cell_type": "markdown",
      "metadata": {
        "id": "1B2eY7yHs7Rv",
        "colab_type": "text"
      },
      "source": [
        "## Data Cleaning"
      ]
    },
    {
      "cell_type": "code",
      "metadata": {
        "id": "tbQc4_HUiqZy",
        "colab_type": "code",
        "outputId": "20fc79fe-7395-4392-a0a5-7a752b606c64",
        "colab": {
          "base_uri": "https://localhost:8080/",
          "height": 85
        }
      },
      "source": [
        "## Checking for null values,datatypes and size of data\n",
        "\n",
        "print(spam.shape)\n",
        "print('\\n')\n",
        "print(spam.isnull().sum().sum())\n",
        "# print('\\n')\n",
        "# print(spam.dtypes)"
      ],
      "execution_count": 0,
      "outputs": [
        {
          "output_type": "stream",
          "text": [
            "(4601, 58)\n",
            "\n",
            "\n",
            "0\n"
          ],
          "name": "stdout"
        }
      ]
    },
    {
      "cell_type": "markdown",
      "metadata": {
        "id": "hJVRDhRatlIV",
        "colab_type": "text"
      },
      "source": [
        "The data has 4601 rows and 58 columns,\n",
        "The dataset has no null values"
      ]
    },
    {
      "cell_type": "markdown",
      "metadata": {
        "id": "MtP3cVcw4hcC",
        "colab_type": "text"
      },
      "source": [
        "## Analysis"
      ]
    },
    {
      "cell_type": "code",
      "metadata": {
        "id": "ZmhjgNWSuIpR",
        "colab_type": "code",
        "colab": {}
      },
      "source": [
        "#Grouping X and Y\n",
        "\n",
        "X = spam.iloc[:,:48]\n",
        "y= spam.iloc[:,-1]"
      ],
      "execution_count": 0,
      "outputs": []
    },
    {
      "cell_type": "code",
      "metadata": {
        "id": "Gv_P7aerv-Gc",
        "colab_type": "code",
        "outputId": "a86ccc68-054a-4440-b8ae-ffcb02977e98",
        "colab": {
          "base_uri": "https://localhost:8080/",
          "height": 51
        }
      },
      "source": [
        "## Fitting the model\n",
        "\n",
        "#Creating a list of classifiers to use\n",
        "classify = [BernoulliNB(),MultinomialNB()]\n",
        "\n",
        "for i, j in zip(classify, ['bern', 'mult']):\n",
        "  \n",
        "## Training the dataset  \n",
        "  X_train,X_test,y_train,y_test = train_test_split(X,y, test_size=0.2, random_state = 0)\n",
        "  \n",
        "## Fitting the data into the model  \n",
        "  sc = MinMaxScaler()\n",
        "  X_train= sc.fit_transform(X_train)\n",
        "  X_test = sc.transform(X_test)\n",
        "\n",
        "  model = i.fit(X_train,y_train)\n",
        "\n",
        "  y_pred = model.predict(X_test)\n",
        "\n",
        "  acc =  np.mean(y_pred == y_test)\n",
        "  \n",
        "  print(j + ' accuracy is: ' + str(acc))"
      ],
      "execution_count": 0,
      "outputs": [
        {
          "output_type": "stream",
          "text": [
            "bern accuracy is: 0.8653637350705755\n",
            "mult accuracy is: 0.8642779587404995\n"
          ],
          "name": "stdout"
        }
      ]
    },
    {
      "cell_type": "markdown",
      "metadata": {
        "id": "qKepx9Xs44-5",
        "colab_type": "text"
      },
      "source": [
        "Berneulli accuracy is 86.53% \n",
        "Multinomial dataset has an accuracy of 86.42%"
      ]
    },
    {
      "cell_type": "code",
      "metadata": {
        "id": "xFPKy_IffgIO",
        "colab_type": "code",
        "outputId": "4b08a1b9-1ceb-4a52-82ef-419afc744cdf",
        "colab": {
          "base_uri": "https://localhost:8080/",
          "height": 51
        }
      },
      "source": [
        "##Confusion matrix\n",
        "from sklearn.metrics import confusion_matrix\n",
        "print(confusion_matrix(y_test,y_pred))"
      ],
      "execution_count": 0,
      "outputs": [
        {
          "output_type": "stream",
          "text": [
            "[[519  19]\n",
            " [106 277]]\n"
          ],
          "name": "stdout"
        }
      ]
    },
    {
      "cell_type": "markdown",
      "metadata": {
        "id": "83U1qdBGgk3G",
        "colab_type": "text"
      },
      "source": [
        "The matrix above details that out of 538 that survived, 519 were correctly predicted and 19 falsely predicted to be dead.\n",
        "And out of 381 that died 277 were accurately predicted and 106 falsely identifiedto be dead"
      ]
    }
  ]
}